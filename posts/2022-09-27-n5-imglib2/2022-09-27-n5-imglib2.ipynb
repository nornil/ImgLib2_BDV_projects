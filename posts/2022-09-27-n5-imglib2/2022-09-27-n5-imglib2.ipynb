{
  "cells": [
    {
      "cell_type": "raw",
      "metadata": {},
      "source": [
        "---\n",
        "title: How to work with the N5 API and ImgLib2?\n",
        "execute:\n",
        "  echo: false\n",
        "---"
      ],
      "id": "c70c9263"
    },
    {
      "cell_type": "markdown",
      "metadata": {},
      "source": [
        "> Read and write ImgLib2 data with the N5 API\n",
        "\n",
        "- toc: false\n",
        "- branch: master\n",
        "- badges: true\n",
        "- comments: true\n",
        "- author: Stephan Saalfeld\n",
        "- categories: [imglib2, n5, hdf5, zarr, jupyter, notebook]\n",
        "\n",
        "\n",
        "In this notebook, we will learn how to work with the [N5 API](https://github.com/saalfeldlab/n5) and [ImgLib2](https://imglib2.net).\n",
        "\n",
        "The N5 API unifies block-wise access to potentially very large *n*-dimensional data over a variety of storage backends.  Those backends currently are the simple [N5 format on the local filesystem](https://github.com/saalfeldlab/n5#file-system-specification), [Google Cloud](https://github.com/saalfeldlab/n5-google-cloud) and [AWS-S3](https://github.com/saalfeldlab/n5-aws-s3), the [HDF5 file format](https://www.hdfgroup.org/solutions/hdf5/) and [Zarr](https://github.com/saalfeldlab/n5-zarr).  The [ImgLib2 bindings](https://github.com/saalfeldlab/n5-imglib2) use this API to make this data available as memory cached lazy cell images through ImgLib2.\n",
        "\n",
        "This notebook uses code and data examples from the [ImgLib2 large data tutorial](https://www.janelia.org/sites/default/files/You%20%2B%20Janelia/Conferences/3.pdf) [I2K2020 workshop](https://www.janelia.org/you-janelia/conferences/from-images-to-knowledge-with-imagej-friends) ([GitHub repository](https://github.com/saalfeldlab/i2k2020-imglib2-advanced)).\n",
        "\n",
        "First let's add the necessary dependencies.  We will load the [`n5-ij` module](https://github.com/saalfeldlab/n5-ij) which will transitively load [ImgLib2](https://imglib2.net) and all the N5 API modules that we will be using in this notebook.  It will also load [ImageJ](https://imagej.nih.gov/ij/) which we will use to display data.\n",
        "\n",
        "``` \n",
        "%%loadFromPOM\n",
        "<repository>\n",
        "    <id>scijava.public</id>\n",
        "    <url>https://maven.scijava.org/content/groups/public</url>\n",
        "</repository>\n",
        "<dependency>\n",
        "    <groupId>org.janelia.saalfeldlab</groupId>\n",
        "    <artifactId>n5</artifactId>\n",
        "    <version>2.5.1</version>\n",
        "</dependency>\n",
        "<dependency>\n",
        "    <groupId>org.janelia.saalfeldlab</groupId>\n",
        "    <artifactId>n5-ij</artifactId>\n",
        "    <version>3.2.2</version>\n",
        "</dependency>\n",
        "```\n",
        "\n",
        "Now, we register a simple renderer that uses [ImgLib2's ImageJ bridge](https://github.com/imglib/imglib2-ij/blob/master/src/main/java/net/imglib2/img/display/imagej/ImageJFunctions.java) and [Spencer Park's image renderer](https://github.com/SpencerPark/jupyter-jvm-basekernel/blob/master/src/main/java/io/github/spencerpark/jupyter/kernel/display/common/Image.java) to render the first 2D slice of a `RandomAccessibleInterval` into the notebook.  We also add a renderer for arrays and maps, because we want to list directories and attributes maps later.\n",
        "\n",
        "``` \n",
        "import com.google.gson.*;\n",
        "import io.github.spencerpark.jupyter.kernel.display.common.*;\n",
        "import io.github.spencerpark.jupyter.kernel.display.mime.*;\n",
        "import net.imglib2.img.display.imagej.*;\n",
        "import net.imglib2.view.*;\n",
        "import net.imglib2.*;\n",
        "\n",
        "getKernelInstance().getRenderer().createRegistration(RandomAccessibleInterval.class)\n",
        "        .preferring(MIMEType.IMAGE_PNG)\n",
        "        .supporting(MIMEType.IMAGE_JPEG, MIMEType.IMAGE_GIF)\n",
        "        .register((rai, context) -> Image.renderImage(\n",
        "                ImageJFunctions.wrap(rai, rai.toString()).getBufferedImage(),\n",
        "                context));\n",
        "\n",
        "getKernelInstance().getRenderer().createRegistration(String[].class)\n",
        "        .preferring(MIMEType.TEXT_PLAIN)\n",
        "        .supporting(MIMEType.TEXT_HTML, MIMEType.TEXT_MARKDOWN)\n",
        "        .register((array, context) -> Text.renderCharSequence(Arrays.toString(array), context));\n",
        "\n",
        "getKernelInstance().getRenderer().createRegistration(long[].class)\n",
        "        .preferring(MIMEType.TEXT_PLAIN)\n",
        "        .supporting(MIMEType.TEXT_HTML, MIMEType.TEXT_MARKDOWN)\n",
        "        .register((array, context) -> Text.renderCharSequence(Arrays.toString(array), context));\n",
        "\n",
        "getKernelInstance().getRenderer().createRegistration(Map.class)\n",
        "        .preferring(MIMEType.TEXT_PLAIN)\n",
        "        .supporting(MIMEType.TEXT_HTML, MIMEType.TEXT_MARKDOWN)\n",
        "        .register((map, context) -> Text.renderCharSequence(map.toString(), context));\n",
        "```\n",
        "\n",
        "We will now open N5 datasets from some sources as lazy-loading ImgLib2 cell images.  For opening the N5 readers, we will use the helper class [`N5Factory`](https://github.com/saalfeldlab/n5-ij/blob/eb9f2aa38e676c36ac79fc26ac8bec4905c1a7fb/src/main/java/org/janelia/saalfeldlab/n5/ij/N5Factory.java) which parses the URL and/ or some magic byte in file headers to pick the right reader or writer for the various possible N5 backends.  If you know which backend you are using, you should probably use the appropriate implementation directly, it's not difficult.\n"
      ],
      "id": "cf40b46e"
    },
    {
      "cell_type": "code",
      "metadata": {},
      "source": [
        "import ij.*;\n",
        "import net.imglib2.converter.*;\n",
        "import net.imglib2.type.numeric.integer.*;\n",
        "import org.janelia.saalfeldlab.n5.*;\n",
        "import org.janelia.saalfeldlab.n5.ij.*;\n",
        "import org.janelia.saalfeldlab.n5.imglib2.*;\n",
        "\n",
        "/* make an N5 reader, we start with a public container on AWS S3 */\n",
        "final var n5Url = \"https://janelia-cosem.s3.amazonaws.com/jrc_hela-2/jrc_hela-2.n5\";\n",
        "final var n5Group = \"/em/fibsem-uint16\";\n",
        "final var n5Dataset = n5Group + \"/s4\";\n",
        "final var n5 = new N5Factory().openReader(n5Url);\n",
        "\n",
        "/* open a dataset as a lazy loading ImgLib2 cell image */\n",
        "final RandomAccessibleInterval<UnsignedShortType> rai = N5Utils.open(n5, n5Dataset);\n",
        "\n",
        "/* This is a 3D volume, so let's show the center slice */\n",
        "Views.hyperSlice(rai, 2, rai.dimension(2) / 2);"
      ],
      "id": "9fb189b7",
      "execution_count": null,
      "outputs": []
    },
    {
      "cell_type": "markdown",
      "metadata": {},
      "source": [
        "That's a bit low on contrast, let's make it look like TEM, and let's show a few of those hyperslices through the 3D volume:\n"
      ],
      "id": "4aa802f9"
    },
    {
      "cell_type": "code",
      "metadata": {},
      "source": [
        "var raiContrast = Converters.convert(\n",
        "        rai,\n",
        "        (a, b) -> b.setReal(Math.max(0, Math.min(255, 255 - 255 * (a.getRealDouble() - 26000) / 6000))),\n",
        "        new UnsignedByteType());\n",
        "display(Views.hyperSlice(raiContrast, 2, rai.dimension(2) / 10 * 4), \"image/jpeg\");\n",
        "display(Views.hyperSlice(raiContrast, 2, rai.dimension(2) / 2), \"image/jpeg\");\n",
        "display(Views.hyperSlice(raiContrast, 2, rai.dimension(2) / 10 * 6), \"image/jpeg\");"
      ],
      "id": "82b4194c",
      "execution_count": null,
      "outputs": []
    },
    {
      "cell_type": "markdown",
      "metadata": {},
      "source": [
        "We can list the attributes and their types of every group or dataset, and read any of them into matching types:\n"
      ],
      "id": "780f9cf4"
    },
    {
      "cell_type": "code",
      "metadata": {},
      "source": [
        "var groupAttributes = n5.listAttributes(n5Group);\n",
        "var datasetAttributes = n5.listAttributes(n5Dataset);\n",
        "\n",
        "display(\n",
        "    \"**\" + n5Group + \"** attributes are ```\" +\n",
        "        groupAttributes.toString().replace(\", \", \",\\n\").replace(\"{\", \"{\\n\") + \"```\",\n",
        "    \"text/markdown\");\n",
        "display(\n",
        "    \"**\" + n5Dataset + \"** attributes are ```\" +\n",
        "        datasetAttributes.toString().replace(\", \", \",\\n\").replace(\"{\", \"{\\n\") + \"```\",\n",
        "    \"text/markdown\");\n",
        "\n",
        "var n5Version = n5.getAttribute(\"/\", \"n5\", String.class);\n",
        "var dimensions = n5.getAttribute(n5Dataset, \"dimensions\", long[].class);\n",
        "var compression = n5.getAttribute(n5Dataset, \"compression\", Compression.class);\n",
        "var dataType = n5.getAttribute(n5Dataset, \"dataType\", DataType.class);\n",
        "\n",
        "display(n5Version);\n",
        "display(dimensions);\n",
        "display(compression);\n",
        "display(dataType);"
      ],
      "id": "28fa6eb0",
      "execution_count": null,
      "outputs": []
    },
    {
      "cell_type": "markdown",
      "metadata": {},
      "source": [
        "Let's save the contrast adjusted uin8 version of the volume into three N5 supported containers (N5, Zarr, and HDF5), parallelize writing for N5 and Zarr:\n"
      ],
      "id": "f17e7ee7"
    },
    {
      "cell_type": "code",
      "metadata": {},
      "source": [
        "import java.nio.file.*;\n",
        "\n",
        "/* create a temporary directory */\n",
        "Path tmpDir = Files.createTempFile(\"\", \"\");\n",
        "Files.delete(tmpDir);\n",
        "Files.createDirectories(tmpDir);\n",
        "var tmpDirStr = tmpDir.toString();\n",
        "\n",
        "display(tmpDirStr);\n",
        "\n",
        "/* get the dataset attributes (dataType, compression, blockSize, dimensions) */\n",
        "final var attributes = n5.getDatasetAttributes(n5Dataset);\n",
        "\n",
        "/* use 10 threads to parallelize copy */\n",
        "final var exec = Executors.newFixedThreadPool(10);\n",
        "\n",
        "/* save this dataset into a filsystem N5 container */\n",
        "try (final var n5Out = new N5Factory().openFSWriter(tmpDirStr + \"/test.n5\")) {\n",
        "    N5Utils.save(raiContrast, n5Out, n5Dataset, attributes.getBlockSize(), attributes.getCompression(), exec);\n",
        "}\n",
        "\n",
        "/* save this dataset into a filesystem Zarr container */\n",
        "try (final var zarrOut = new N5Factory().openZarrWriter(tmpDirStr + \"/test.zarr\")) {\n",
        "    N5Utils.save(raiContrast, zarrOut, n5Dataset, attributes.getBlockSize(), attributes.getCompression(), exec);\n",
        "}\n",
        "\n",
        "/* save this dataset into an HDF5 file, parallelization does not help here */\n",
        "try (final var hdf5Out = new N5Factory().openHDF5Writer(tmpDirStr + \"/test.hdf5\")) {\n",
        "    N5Utils.save(raiContrast, hdf5Out, n5Dataset, attributes.getBlockSize(), attributes.getCompression());\n",
        "}\n",
        "\n",
        "/* shot down the executor service */\n",
        "exec.shutdown();\n",
        "\n",
        "display(Files.list(tmpDir).map(a -> a.toString()).toArray(String[]::new));"
      ],
      "id": "02871f9d",
      "execution_count": null,
      "outputs": []
    },
    {
      "cell_type": "markdown",
      "metadata": {},
      "source": [
        "Now let us look at them and see if they all contain the same data:\n"
      ],
      "id": "10dbee4a"
    },
    {
      "cell_type": "code",
      "metadata": {},
      "source": [
        "try (final var n5 = new N5Factory().openReader(tmpDirStr + \"/test.n5\")) {\n",
        "    final RandomAccessibleInterval<UnsignedByteType> rai = N5Utils.open(n5, n5Dataset);\n",
        "    display(Views.hyperSlice(rai, 2, rai.dimension(2) / 2), \"image/jpeg\");\n",
        "}\n",
        "\n",
        "try (final var n5 = new N5Factory().openReader(tmpDirStr + \"/test.zarr\")) {\n",
        "    final RandomAccessibleInterval<UnsignedByteType> rai = N5Utils.open(n5, n5Dataset);\n",
        "    display(Views.hyperSlice(rai, 2, rai.dimension(2) / 2), \"image/jpeg\");    \n",
        "}\n",
        "\n",
        "try (final var n5 = new N5Factory().openReader(tmpDirStr + \"/test.hdf5\")) {\n",
        "    final RandomAccessibleInterval<UnsignedByteType> rai = N5Utils.open(n5, n5Dataset);\n",
        "    display(Views.hyperSlice(rai, 2, rai.dimension(2) / 2), \"image/jpeg\");        \n",
        "}"
      ],
      "id": "71062fd0",
      "execution_count": null,
      "outputs": []
    },
    {
      "cell_type": "markdown",
      "metadata": {},
      "source": [
        "Let's clean up temporary storage before we end this tutorial.\n"
      ],
      "id": "e3b5661b"
    },
    {
      "cell_type": "code",
      "metadata": {
        "scrolled": true
      },
      "source": [
        "try (var n5 = new N5Factory().openWriter(tmpDirStr + \"/test.n5\")) {\n",
        "    n5.remove();\n",
        "}\n",
        "try (var n5 = new N5Factory().openWriter(tmpDirStr + \"/test.zarr\")) {\n",
        "    n5.remove();\n",
        "}\n",
        "try (var n5 = new N5Factory().openWriter(tmpDirStr + \"/test.hdf5\")) {\n",
        "    n5.remove();\n",
        "}\n",
        "Files.delete(tmpDir);"
      ],
      "id": "5270987d",
      "execution_count": null,
      "outputs": []
    }
  ],
  "metadata": {
    "kernelspec": {
      "name": "java",
      "language": "java",
      "display_name": "Java"
    }
  },
  "nbformat": 4,
  "nbformat_minor": 5
}