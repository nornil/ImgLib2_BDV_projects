{
 "cells": [
  {
   "cell_type": "markdown",
   "id": "8961a12a",
   "metadata": {},
   "source": [
    "---\n",
    "title: \"Adding Stream support to ImgLib2\"\n",
    "author: \"Tobias Pietzsch\"\n",
    "date: \"2022-10-30\"\n",
    "categories: [ imglib2 , stream-api,   java ] \n",
    "execute:\n",
    "  echo: true\n",
    "---\n",
    "# Adding Stream support to ImgLib2\n",
    "> Examples and a discussion on performance\n",
    "\n",
    "\n"
   ]
  },
  {
   "cell_type": "markdown",
   "id": "2d7060f5",
   "metadata": {},
   "source": [
    "The recently released [imglib2-6.3.0](https://maven.scijava.org/#nexus-search;gav~net.imglib2~imglib2~6.3.0~~) adds support for Java Streams.\n",
    "\n",
    "\n",
    "\n",
    "## Access Img pixels as a Stream\n",
    "\n",
    "The first addition is that every `IterableRealInterval<T>` (and sub-classes like `IterableInterval`, `Img`, ...) can now provide (sequential or parallel) streams over its elements.\n"
   ]
  },
  {
   "cell_type": "code",
   "execution_count": 1,
   "id": "4def4848",
   "metadata": {
    "vscode": {
     "languageId": "java"
    }
   },
   "outputs": [],
   "source": [
    "public interface IterableRealInterval<T> extends RealInterval, Iterable<T> {\n",
    "    ...\n",
    "    Stream<T> stream();\n",
    "    Stream<T> parallelStream();\n",
    "}"
   ]
  },
  {
   "cell_type": "markdown",
   "id": "885f970d",
   "metadata": {},
   "source": [
    "This is entirely equivalent to 'java.util.Collection'"
   ]
  },
  {
   "cell_type": "code",
   "execution_count": 2,
   "id": "fcc393d6",
   "metadata": {
    "vscode": {
     "languageId": "java"
    }
   },
   "outputs": [],
   "source": [
    "public interface Collection<T> extends Iterable<T> {\n",
    "    ...\n",
    "    Stream<T> stream();\n",
    "    Stream<T> parallelStream();\n",
    "}"
   ]
  },
  {
   "cell_type": "markdown",
   "id": "85efa695",
   "metadata": {},
   "source": [
    "and allows to operate on pixel values.\n",
    "\n",
    "Encounter order of the streams is always compatible with `cursor()`. That is, `Views.flatIterable(img).stream()` yields elements in flat iteration order.\n",
    "\n",
    "Streams can be used, for example, to set all pixels of an `Img` to some `value`: \n"
   ]
  },
  {
   "cell_type": "code",
   "execution_count": null,
   "id": "2facb0ab",
   "metadata": {
    "vscode": {
     "languageId": "java"
    }
   },
   "outputs": [],
   "source": [
    "static <T extends Type<T>> void fill(Img<T> img, T value) {\n",
    "    \n",
    "    img.stream().forEach(t->t.set(value));\n",
    "}"
   ]
  },
  {
   "cell_type": "markdown",
   "id": "db33079f",
   "metadata": {},
   "source": [
    "to compute the sum of all values in an `Img`:"
   ]
  },
  {
   "cell_type": "code",
   "execution_count": null,
   "id": "f596a8ed",
   "metadata": {
    "vscode": {
     "languageId": "java"
    }
   },
   "outputs": [],
   "source": [
    "static double sum(Img<DoubleType> img) {\n",
    "\n",
    "    return img.stream()\n",
    "            .mapToDouble(DoubleType::get)\n",
    "            .sum();\n",
    "}"
   ]
  },
  {
   "cell_type": "markdown",
   "id": "0a8bafeb",
   "metadata": {},
   "source": [
    "or to find the maximum value in an `Img`:"
   ]
  },
  {
   "cell_type": "code",
   "execution_count": null,
   "id": "60616293",
   "metadata": {
    "vscode": {
     "languageId": "java"
    }
   },
   "outputs": [],
   "source": [
    "static double max(Img<DoubleType> img) {\n",
    "\n",
    "        return img.stream()\n",
    "                .mapToDouble(DoubleType::get)\n",
    "                .max().getAsDouble();\n",
    "    }"
   ]
  },
  {
   "cell_type": "markdown",
   "id": "c45d9e97",
   "metadata": {},
   "source": [
    "In particular the latter two examples, where the terminal operation is some form of reduction, allow for more convenient parallelization than the alternatives. Computing the maximum value in parallel is as simple as "
   ]
  },
  {
   "cell_type": "code",
   "execution_count": null,
   "id": "02074daf",
   "metadata": {
    "vscode": {
     "languageId": "java"
    }
   },
   "outputs": [],
   "source": [
    "static double max(Img<DoubleType> img) {\n",
    "\n",
    "    return img.parallelStream()\n",
    "            .mapToDouble(DoubleType::get)\n",
    "            .max().getAsDouble();\n",
    "}"
   ]
  },
  {
   "cell_type": "markdown",
   "id": "a666ae32",
   "metadata": {},
   "source": [
    "Doing the same with `LoopBuilder` currently requires to parallelize over chunks, collect partial results into mutable holder objects, and implement the reduction of partial results into the final result.\n",
    "\n",
    "\n",
    "## Access Img values *and positions* as a Stream\n",
    "A stream of only pixel values, without access to their positions is rather limiting. For example, we would often be interested in the location of the image maximum, not only the value. To achieve this, there is a new utility class `net.imglib2.stream.Streams`, with methods\n"
   ]
  },
  {
   "cell_type": "code",
   "execution_count": null,
   "id": "53029575",
   "metadata": {
    "vscode": {
     "languageId": "java"
    }
   },
   "outputs": [],
   "source": [
    "public static <T> Stream<RealLocalizableSampler<T>> localizable(IterableRealInterval<T> interval)\n",
    "public static <T> Stream<RealLocalizableSampler<T>> localizing(IterableRealInterval<T> interval)\n",
    "public static <T> Stream<LocalizableSampler<T>> localizable(IterableInterval<T> interval)\n",
    "public static <T> Stream<LocalizableSampler<T>> localizing(IterableInterval<T> interval)"
   ]
  },
  {
   "cell_type": "markdown",
   "id": "7af93bcf",
   "metadata": {},
   "source": [
    "that allow to create Streams of `LocalizableSampler<T>` of the pixels of an `IterableInterval` (and analogous for `IterableRealInterval`). You can think of `LocalizableSampler<T>` as a `Cursor<T>` which cannot be moved, which is more or less what the default implementation does under the hood.\n",
    "\n",
    "The `localizable` and `localizing` variants are analogous to `cursor()` and `localizingCursor()` The Stream returned by `localizable` computes element locations only when asked to (with potentially higher per-element cost). The Stream returned by `localizing` tracks element locations always (in general faster, but potentially unnecessary).\n",
    "\n",
    "For example, to fill image pixels with position-dependent values, we would use `localizing`, because we require the position of each element."
   ]
  },
  {
   "cell_type": "code",
   "execution_count": 8,
   "id": "f3cd29ae",
   "metadata": {
    "scrolled": true,
    "vscode": {
     "languageId": "java"
    }
   },
   "outputs": [],
   "source": [
    "static void fractal() {\n",
    "    \n",
    "    Img<UnsignedByteType> img = ArrayImgs.unsignedBytes(1000, 1000);\n",
    "    Streams.localizing(img)\n",
    "            .parallel()\n",
    "            .forEach(s -> s.get().set(\n",
    "                    mandelbrot(\n",
    "                            (s.getDoublePosition(0) - 800) / 500,\n",
    "                            (s.getDoublePosition(1) - 500) / 500)\n",
    "            ));\n",
    "    BdvFunctions.show(img, \"mandelbrot\", Bdv.options().is2D());\n",
    "}"
   ]
  },
  {
   "cell_type": "markdown",
   "id": "6c20dbf4",
   "metadata": {},
   "source": [
    "![](mandelbrot.jpg \"Mandelbrot\")"
   ]
  },
  {
   "cell_type": "markdown",
   "id": "a63932e0",
   "metadata": {},
   "source": [
    "Conversely, to compute the maximum value and its location in an image, we would use `localizable`, because we only ask for the position of one element (the maximum)."
   ]
  },
  {
   "cell_type": "code",
   "execution_count": null,
   "id": "f81ce92f",
   "metadata": {
    "vscode": {
     "languageId": "java"
    }
   },
   "outputs": [],
   "source": [
    "static void printMax(Img<IntType> img) {\n",
    "\n",
    "    Optional<LocalizableSampler<IntType>> optionalMax =\n",
    "            Streams.localizable(img)\n",
    "                    .parallel()\n",
    "                    .map(LocalizableSampler::copy)\n",
    "                    .max(Comparator.comparingInt(c -> c.get().get()));\n",
    "    LocalizableSampler<IntType> max = optionalMax.get();\n",
    "    System.out.println(\"max position = \" + Util.printCoordinates(max));\n",
    "    System.out.println(\"max value = \" + max.get().getInteger());\n",
    "}"
   ]
  },
  {
   "cell_type": "markdown",
   "id": "85818fe1",
   "metadata": {},
   "source": [
    "(In both cases, it is fine to chose the respectively other variant with no change in behaviour, and only limited performance impact.)\n",
    "\n",
    "## Pitfalls\n",
    "\n",
    "The `T` elements of the stream are proxies that are re-used, as usual in ImgLib2. Explicit copying operations must be added if stream elements are supposed to be retained (by stateful intermediate or terminal operations).\n",
    "\n",
    "For example, to collect all `DoubleType` values between `0` and `1` into a list:\n"
   ]
  },
  {
   "cell_type": "code",
   "execution_count": null,
   "id": "589d062e",
   "metadata": {
    "vscode": {
     "languageId": "java"
    }
   },
   "outputs": [],
   "source": [
    "List< DoubleType > values = img.stream()\n",
    "    .filter( t -> t.get() >= 0.0 && t.get() <= 1.0 )\n",
    "    .map( DoubleType::copy ) // <-- this is important!\n",
    "    .collect( Collectors.toList() );"
   ]
  },
  {
   "cell_type": "markdown",
   "id": "b2e0bd4f",
   "metadata": {},
   "source": [
    "The `.map(DoubleType::copy)` operation is necessary, otherwise the `values` list will contain many duplicates of the same (re-used proxy) `DoubleType` instance. The copy could also be done before the `.filter(...)` operation, but it's better to do it as late as possible to avoid unnecessary creation of objects.\n",
    "\n",
    "Likewise, the `.map(LocalizableSampler::copy)` in the `printMax()` example above is required. There is [ongoing work](https://github.com/orgs/imglib/projects/1/views/1?pane=issue&itemId=38384066) to reduce the necessity of explicit copy operations. For example, in the `printMax()` example, the `.max()` operation of the stream could be overridden to only copy when a new maximum candidate is encountered.\n",
    "\n",
    "Note, that already the current implementation takes care not to re-use proxies across parallel execution, so threads of a `parallelStream()` will not interfere.\n",
    "\n",
    "## Implementation details\n",
    "* Both, pure-value streams and value-and-position streams make use of `LocalizableSpliterator<T>`. `LocalizableSpliterator<T>` extends `Spliterator` and `Localizable`, similiar to `Cursor` extending `Iterator` and `Localizable`. \n",
    "* There are default `LocalizableSpliterator<T>` (and `RealLocalizableSpliterator<T>`) implementations based on `Cursor<T>` (and `RealCursor<T>`). Therefore, the new streams API works for every `IterableRealInterval`, without the need to touch existing implementations.\n",
    "* Additionally, the standard `Img` classes have custom `LocalizableSpliterator<T>`, that leverage knowledge of underlying storage for improved performance.\n",
    "\n",
    "\n",
    "## Performance\n",
    "It's complicated...\n",
    "\n",
    "One the one hand, there comes considerable performance overhead in replacing simple loops with stream operations. This has nothing to do with ImgLib2, it is just a \"feature\" of the underlying machinery. This can be observed for example by benchmarking looping over an `int[]` array:\n"
   ]
  },
  {
   "cell_type": "code",
   "execution_count": null,
   "id": "9a00ff3d",
   "metadata": {
    "vscode": {
     "languageId": "java"
    }
   },
   "outputs": [],
   "source": [
    "int[] values = new int[4_000_000];\n",
    "\n",
    "@Benchmark\n",
    "public long benchmarkForLoopArray() {\n",
    "    long count = 0;\n",
    "    for (int value : values) {\n",
    "        if (value > 127)\n",
    "            ++count;\n",
    "    }\n",
    "    return count;\n",
    "}\n",
    "\n",
    "@Benchmark\n",
    "public long benchmarkStreamArray() {\n",
    "    return IntStream.of(values).filter(value -> value > 127).count();\n",
    "}"
   ]
  },
  {
   "cell_type": "markdown",
   "id": "36d76eb5",
   "metadata": {},
   "source": [
    "The result is"
   ]
  },
  {
   "cell_type": "code",
   "execution_count": null,
   "id": "db5d692c",
   "metadata": {
    "vscode": {
     "languageId": "java"
    }
   },
   "outputs": [],
   "source": [
    "Benchmark                                          Mode  Cnt   Score   Error  Units\n",
    "ArrayStreamBenchmark.benchmarkForLoopArray         avgt   15   2,563 ± 0,026  ms/op\n",
    "ArrayStreamBenchmark.benchmarkStreamArray          avgt   15  11,052 ± 0,022  ms/op"
   ]
  },
  {
   "cell_type": "markdown",
   "id": "7e6b0c70",
   "metadata": {},
   "source": [
    "That is, the Stream version is > 4 times slower. Equivalent performance overhead often can be observed in ImgLib2, when replacing `Cursor` based loops with Stream operations.\n",
    "\n",
    "On the other hand, custom Spliterator implementations sometimes benefit more than cursors from tuning to the underlying storage. (Because iteration is \"internal\" with the spliterator, while the cursor must return control to the caller after every visited element.) For example, consider the following benchmark method (equivalent code for other variations omitted, see [github](https://github.com/imglib/imglib2/blob/dbade5c32a6900145e578ebde0efc12e7a35c436/src/test/java/net/imglib2/stream/LocalizableSamplerStreamBenchmark.java) for full details):\n"
   ]
  },
  {
   "cell_type": "code",
   "execution_count": null,
   "id": "25b2115c",
   "metadata": {
    "vscode": {
     "languageId": "java"
    }
   },
   "outputs": [],
   "source": [
    "@Benchmark\n",
    "public long benchmarkStream() {\n",
    "    long sum = Streams.localizable(img)\n",
    "            .mapToLong(s -> s.get().get()\n",
    "                    + s.getIntPosition(0)\n",
    "                    + s.getIntPosition(1)\n",
    "                    + s.getIntPosition(2)\n",
    "            ).sum();\n",
    "    return sum;\n",
    "}"
   ]
  },
  {
   "cell_type": "markdown",
   "id": "4daacfb1",
   "metadata": {},
   "source": [
    "The result looks like"
   ]
  },
  {
   "cell_type": "code",
   "execution_count": null,
   "id": "378199f3",
   "metadata": {
    "vscode": {
     "languageId": "java"
    }
   },
   "outputs": [],
   "source": [
    "Benchmark                                                            (imgType)  Mode  Cnt   Score   Error  Units\n",
    "LocalizableSamplerStreamBenchmark.benchmarkCursor                     ArrayImg  avgt   15  10,097 ± 0,046  ms/op\n",
    "LocalizableSamplerStreamBenchmark.benchmarkLocalizingCursor           ArrayImg  avgt   15   3,846 ± 0,020  ms/op\n",
    "LocalizableSamplerStreamBenchmark.benchmarkLocalizingStream           ArrayImg  avgt   15   3,337 ± 0,027  ms/op\n",
    "LocalizableSamplerStreamBenchmark.benchmarkLocalizingParallelStream   ArrayImg  avgt   15   0,962 ± 0,583  ms/op"
   ]
  },
  {
   "cell_type": "markdown",
   "id": "4ae178cd",
   "metadata": {},
   "source": [
    "That is, the performance difference between localizing and non-localizing Cursors is much more pronounced than the difference between Cursor loop and Stream. In fact, the Stream version is even faster than the localizingCursor version. On top of that, it is trivial to parallelize.\n",
    "\n",
    "Finally, we did not investigate polymorphism effects so far. It is very much possible that this affects performance and we may have to investigate employing `LoopBuilder`s class-copying mechanism to counter these effects.\n",
    "\n",
    "In summary, I think one should not hesitate to use Streams where it makes sense from a readability and ease-of-use perspective. If performance is a critical concern, it is best to benchmark various approaches, because the behaviour is not easy to predict."
   ]
  }
 ],
 "metadata": {
  "kernelspec": {
   "display_name": "Java",
   "language": "java",
   "name": "java"
  },
  "language_info": {
   "codemirror_mode": "java",
   "file_extension": ".jshell",
   "mimetype": "text/x-java-source",
   "name": "Java",
   "pygments_lexer": "java",
   "version": "19.0.1+10-21"
  }
 },
 "nbformat": 4,
 "nbformat_minor": 5
}
